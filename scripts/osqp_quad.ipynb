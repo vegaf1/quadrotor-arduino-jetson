{
 "cells": [
  {
   "cell_type": "code",
   "execution_count": 28,
   "id": "cce6e20a",
   "metadata": {},
   "outputs": [],
   "source": [
    "#module LqrHoverController\n",
    "    using TOML\n",
    "    using ZMQ\n",
    "    using ProtoBuf\n",
    "    using LinearAlgebra\n",
    "    using ForwardDiff\n",
    "    using BlockDiagonals\n",
    "    using ControlSystems\n",
    "    using PyPlot \n",
    "    using SparseArrays\n",
    "    using OSQP"
   ]
  },
  {
   "cell_type": "code",
   "execution_count": 29,
   "id": "10ac78f1",
   "metadata": {},
   "outputs": [],
   "source": [
    "function hat(v) #skew symmetric matrix operator\n",
    "    return [0 -v[3] v[2];\n",
    "            v[3] 0 -v[1];\n",
    "            -v[2] v[1] 0]\n",
    "end\n",
    "function L(q) #the function takes a quaternion as input\n",
    "    s = q[1] #scalar part of quaternion\n",
    "    v = q[2:4] #vector part of quaternion\n",
    "    L = [s    -v';\n",
    "         v  s*I+hat(v)]\n",
    "    return L\n",
    "end\n",
    "\n",
    "T = Diagonal([1; -ones(3)]) # to find the inverse of a quaternion\n",
    "H_ = [zeros(1,3); I]  #zero the scalar part of quaternion\n",
    "function qtoQ(q) #figure out what this function is for\n",
    "\n",
    "    return H_'*T*L(q)*T*L(q)*H_\n",
    "end\n",
    "\n",
    "function G(q)\n",
    "    G = L(q)*H_\n",
    "end\n",
    "\n",
    "function rptoq(phi)# mapping between rodrigues parameter and quaternion\n",
    "    (1/sqrt(1+phi'*phi))*[1; phi] #known as the Cayley map\n",
    "end\n",
    "function qtorp(q) #mapping between quaternion to rodrigues parameter\n",
    "    q[2:4]/q[1]\n",
    "end\n",
    "\n",
    "# updated quadrotor parameters\n",
    "m = 1.776 # in kg\n",
    "l = 0.28 #in m\n",
    "J = [0.01566089 0.00000318037 0; 0.00000318037 0.01562078 0; 0 0 0.02226868]\n",
    "g = 9.81\n",
    "kt=0.11\n",
    "km=0.044\n",
    "\n",
    "umin = [0;0;0;0]\n",
    "umax = [0.6*m*g;0.6*m*g;0.6*m*g;0.6*m*g]\n",
    "\n",
    "h = 0.05 #20 Hz\n",
    "\n",
    "Nx = 13     #number of states (w quaternion)\n",
    "Nx_ = 12    #number of states (linearized using rodrigues parameters)\n",
    "Nu = 4     # number of controls\n",
    "Tfinal = 5.0 #final time (may change if it is not discrete time)\n",
    "Nt = Int(Tfinal/h)+1    # number of time steps\n",
    "thist = Array(range(0,h*(Nt-1), step=h));\n"
   ]
  },
  {
   "cell_type": "code",
   "execution_count": 30,
   "id": "66445b17",
   "metadata": {},
   "outputs": [
    {
     "data": {
      "text/plain": [
       "quad_dynamics_rk4 (generic function with 1 method)"
      ]
     },
     "execution_count": 30,
     "metadata": {},
     "output_type": "execute_result"
    }
   ],
   "source": [
    "function E(q)\n",
    "    E = BlockDiagonal([1.0*I(3), G(q), 1.0*I(6)])\n",
    "end\n",
    "\n",
    "function quad_dynamics(x,u)\n",
    "    #print(\"in the dynamics function\")\n",
    "    r = x[1:3]\n",
    "    #print(r)\n",
    "    q = x[4:7]\n",
    "    #print(q)\n",
    "    v = x[8:10]\n",
    "    #print(v)\n",
    "    omega = x[11:13]\n",
    "    #print(omega)\n",
    "    #print(size(q))\n",
    "    Q = qtoQ(q)\n",
    "    #print(\"passed the dynamics function\")\n",
    "    \n",
    "    rdot = Q*v\n",
    "    qdot = 0.5*L(q)*H_*omega\n",
    "    \n",
    "    vdot = Q'*[0; 0; -g] + (1/m)*[zeros(2,4); kt*ones(1,4)]*u - hat(omega)*v\n",
    "    \n",
    "    omegadot = J\\(-hat(omega)*J*omega + [0 l*kt 0 -l*kt; -l*kt 0 l*kt 0; km -km km -km]*u)\n",
    "    \n",
    "    return [rdot; qdot; vdot; omegadot]\n",
    "end\n",
    "\n",
    "function quad_dynamics_rk4(x,u)\n",
    "    #RK4 integration with zero-order hold on u\n",
    "    #print(\"IN THE RK4 DYNAMICS\")\n",
    "    f1 = quad_dynamics(x, u)\n",
    "    #print(\"passed quad dyanamics\")\n",
    "    f2 = quad_dynamics(x + 0.5*h*f1, u)\n",
    "    f3 = quad_dynamics(x + 0.5*h*f2, u)\n",
    "    f4 = quad_dynamics(x + h*f3, u)\n",
    "    xn = x + (h/6.0)*(f1 + 2*f2 + 2*f3 + f4)\n",
    "    xn[4:7] .= xn[4:7]/norm(xn[4:7]) #re-normalize quaternion to reduce error\n",
    "    return xn #returns the state at a future timestep\n",
    "end"
   ]
  },
  {
   "cell_type": "code",
   "execution_count": 31,
   "id": "3b0b942d",
   "metadata": {},
   "outputs": [
    {
     "data": {
      "text/plain": [
       "12×12 Matrix{Float64}:\n",
       " 31.4833        -0.00034497    2.11251e-13  …   2.32573      -4.01876e-14\n",
       " -0.00034497    31.4877       -3.68185e-14     -0.000451107  -5.62602e-15\n",
       " -2.92289e-14   -3.47328e-13  49.9227          -3.34805e-15   1.84816e-13\n",
       "  0.00436802   -58.7229        4.41843e-13      0.00709048    5.89423e-14\n",
       " 58.6678        -0.00436802    2.42644e-12     30.3313       -2.24106e-13\n",
       " -2.50096e-14    2.41945e-13  -1.27836e-12  …  -1.56881e-14   1.67673\n",
       " 13.9929        -0.000534453   3.18057e-13      3.6021       -3.50172e-14\n",
       " -0.000534453   13.9997       -5.67735e-14     -0.000739     -1.09409e-14\n",
       " -1.18573e-13   -1.409e-12    51.0589          -1.36264e-14   4.97988e-13\n",
       "  0.000451107   -2.33142       2.04857e-14      0.000994128   2.94598e-15\n",
       "  2.32573       -0.000451107   1.08437e-13  …   4.24158      -1.06222e-14\n",
       " -2.82879e-14    8.82805e-14  -6.48801e-14     -9.57436e-15   2.24573"
      ]
     },
     "execution_count": 31,
     "metadata": {},
     "output_type": "execute_result"
    }
   ],
   "source": [
    "#Initial Conditions\n",
    "uhover = (m*g/4)*ones(4) #gravity compensation for a hover\n",
    "r0 = [0.0; 0; 1.0] #1 meter off the ground\n",
    "q0 = [1.0; 0; 0; 0]\n",
    "v0 = zeros(3)\n",
    "omega0 = zeros(3) #stable hover, no velocities\n",
    "x0 = [r0; q0; v0; omega0]; #initial/reference state\n",
    "\n",
    "#Linearize dynamics about hover\n",
    "A = ForwardDiff.jacobian(x->quad_dynamics_rk4(x,uhover),x0)\n",
    "B = ForwardDiff.jacobian(u->quad_dynamics_rk4(x0,u),uhover);\n",
    "\n",
    "#reduced system to make it controllable \n",
    "A_ = Array(E(q0)'*A*E(q0));\n",
    "B_ = Array(E(q0)'*B);\n",
    "\n",
    "#cost weights\n",
    "Q = Array(1.0*I(Nx_));\n",
    "R = Array(0.1*I(Nu));\n",
    "Qn = Array(1.0*I(Nx_));\n",
    "\n",
    "K = dlqr(A_,B_,Q,R)\n",
    "P_ = dare(A_,B_,Q,R)\n"
   ]
  },
  {
   "cell_type": "code",
   "execution_count": 32,
   "id": "a2a0059c",
   "metadata": {},
   "outputs": [
    {
     "name": "stdout",
     "output_type": "stream",
     "text": [
      "(80, 320)(240, 320)(20, 320)"
     ]
    }
   ],
   "source": [
    "#Build QP matrices for OSQP\n",
    "Nh = 20\n",
    "Nx_ = 12\n",
    "Nu = 4\n",
    "U = kron(Diagonal(I,Nh), [I zeros(Nu,Nx_)]) #Matrix that picks out all u\n",
    "Θ = kron(Diagonal(I,Nh), [0 0 0 1 0 0 0 0 0 0 0 0 0 0 0 0 ]) #Matrix that picks out all x3 (θ)\n",
    "H = sparse([kron(Diagonal(I,Nh-1),[R zeros(Nu,Nx_); zeros(Nx_,Nu) Q]) zeros((Nx_+Nu)*(Nh-1), Nx_+Nu); zeros(Nx_+Nu,(Nx_+Nu)*(Nh-1)) [R zeros(Nu,Nx_); zeros(Nx_,Nu) P_]])\n",
    "b = zeros(Nh*(Nx_+Nu))\n",
    "C = sparse([[B_ -I zeros(Nx_,(Nh-1)*(Nu+Nx_))]; zeros(Nx_*(Nh-1),Nu) [kron(Diagonal(I,Nh-1), [A_ B_]) zeros((Nh-1)*Nx_,Nx_)] + [zeros((Nh-1)*Nx_,Nx_) kron(Diagonal(I,Nh-1),[zeros(Nx_,Nu) Diagonal(-I,Nx_)])]])\n",
    "print(size(U))\n",
    "print(size(C))\n",
    "print(size(Θ))\n",
    "#D = [C; U]\n",
    "#lb = [zeros(Nx_*Nh); kron(ones(Nh),umin-uhover)]\n",
    "#ub = [zeros(Nx_*Nh); kron(ones(Nh),umax-uhover)]\n",
    "D = [C; U; Θ]\n",
    "lb = [zeros(Nx_*Nh); kron(ones(Nh),umin-uhover); -0.3*ones(Nh)]\n",
    "ub = [zeros(Nx_*Nh); kron(ones(Nh),umax-uhover); 0.3*ones(Nh)]\n",
    "\n",
    "#print(size(lb))\n",
    "\n",
    "prob = OSQP.Model()\n",
    "OSQP.setup!(prob; P=H, q=b, A=D, l=lb, u=ub, verbose=false, eps_abs=1e-8, eps_rel=1e-8, polish=1);"
   ]
  },
  {
   "cell_type": "code",
   "execution_count": 33,
   "id": "882b2ec8",
   "metadata": {},
   "outputs": [
    {
     "data": {
      "text/plain": [
       "mpc_controller (generic function with 1 method)"
      ]
     },
     "execution_count": 33,
     "metadata": {},
     "output_type": "execute_result"
    }
   ],
   "source": [
    "#MPC Controller\n",
    "function mpc_controller(t,x,xref)\n",
    "    \n",
    "    q0 = x0[4:7]\n",
    "    q = x[4:7]\n",
    "    phi = qtorp(q)\n",
    "    \n",
    "    x_ = [x[1:3]; phi; x[8:10]; x[11:13]]\n",
    "    \n",
    "    #print(size(x_))\n",
    "    #print(size(A_))\n",
    "    #print(\"the error is here\")\n",
    "    #Update QP problem\n",
    "    lb[1:12] .= -A_*(x_-xref)\n",
    "    ub[1:12] .= -A_*(x_-xref)\n",
    "    \n",
    "    #print(\"ERROR\")\n",
    "    \n",
    "    for j = 1:(Nh-1)\n",
    "        \n",
    "        b[(Nu+(j-1)*(Nx_+Nu)).+(1:Nx_)] .= -Q*xref\n",
    "    end\n",
    "    #print(\"finished\")\n",
    "    b[(Nu+(Nh-1)*(Nx_+Nu)).+(1:Nx_)] .= -P_*xref\n",
    "    #print(\"error here\")\n",
    "    OSQP.update!(prob, q=b, l=lb, u=ub)\n",
    "    #print(\"error updating\")\n",
    "    #print(\"updated QP\")\n",
    "\n",
    "    #Solve QP\n",
    "    results = OSQP.solve!(prob)\n",
    "    Δu = results.x[1:Nu]\n",
    "    print(\"return control action\")\n",
    "\n",
    "    return uhover + Δu\n",
    "end"
   ]
  },
  {
   "cell_type": "code",
   "execution_count": 34,
   "id": "659a25cf",
   "metadata": {},
   "outputs": [
    {
     "data": {
      "text/plain": [
       "closed_loop (generic function with 1 method)"
      ]
     },
     "execution_count": 34,
     "metadata": {},
     "output_type": "execute_result"
    }
   ],
   "source": [
    "function closed_loop(x0,controller,N)\n",
    "    print(\"in the closed loop\")\n",
    "    xhist = zeros(length(x0),N)\n",
    "    u0 = controller(1,x0)\n",
    "    uhist = zeros(length(u0),N-1)\n",
    "    uhist[:,1] .= u0\n",
    "    #xhist[:,1] .= x0\n",
    "    xhist[:,1] .= [r0+[2;2;1]; L(q0)*rptoq([0.414; 1; 1.59]); v0; omega0]\n",
    "    #print(\"this is xhist\")\n",
    "    #print( xhist[:,1])\n",
    "    #print(\"this is uhist\")\n",
    "    #print(uhist[:,1])\n",
    "    #print(\"uhist initialized\")\n",
    "    for k = 1:(N-1)\n",
    "        print(\"in the for loop\")\n",
    "        uk = controller(k,xhist[:,k])\n",
    "        uhist[:,k] = max.(min.(umax, uk), umin) #enforce control limits\n",
    "        print(\"this is xhist\")\n",
    "        print(size(xhist[:,1]))\n",
    "        print(\"this is uhist\")\n",
    "        print(size(uhist[:,1]))\n",
    "        print(\"about to send dynamics\")\n",
    "        xhist[:,k+1] .= quad_dynamics_rk4(xhist[:,k],uhist[:,k])\n",
    "        print(\"in here\")\n",
    "    end\n",
    "    print(\"returning pose\")\n",
    "    return xhist, uhist\n",
    "end"
   ]
  },
  {
   "cell_type": "code",
   "execution_count": 35,
   "id": "a3fe2670",
   "metadata": {},
   "outputs": [
    {
     "name": "stdout",
     "output_type": "stream",
     "text": [
      "in the closed loopreturn control actionin the for loopreturn control actionthis is xhist(13,)this is uhist(4,)about to send dynamicsin herein the for loopreturn control actionthis is xhist(13,)this is uhist(4,)about to send dynamicsin herein the for loopreturn control actionthis is xhist(13,)this is uhist(4,)about to send dynamicsin herein the for loopreturn control actionthis is xhist(13,)this is uhist(4,)about to send dynamicsin herein the for loopreturn control actionthis is xhist(13,)this is uhist(4,)about to send dynamicsin herein the for loopreturn control actionthis is xhist(13,)this is uhist(4,)about to send dynamicsin herein the for loopreturn control actionthis is xhist(13,)this is uhist(4,)about to send dynamicsin herein the for loopreturn control actionthis is xhist(13,)this is uhist(4,)about to send dynamicsin herein the for loopreturn control actionthis is xhist(13,)this is uhist(4,)about to send dynamicsin herein the for loopreturn control actionthis is xhist(13,)this is uhist(4,)about to send dynamicsin herein the for loopreturn control actionthis is xhist(13,)this is uhist(4,)about to send dynamicsin herein the for loopreturn control actionthis is xhist(13,)this is uhist(4,)about to send dynamicsin herein the for loopreturn control actionthis is xhist(13,)this is uhist(4,)about to send dynamicsin herein the for loopreturn control actionthis is xhist(13,)this is uhist(4,)about to send dynamicsin herein the for loopreturn control actionthis is xhist(13,)this is uhist(4,)about to send dynamicsin herein the for loopreturn control actionthis is xhist(13,)this is uhist(4,)about to send dynamicsin herein the for loopreturn control actionthis is xhist(13,)this is uhist(4,)about to send dynamicsin herein the for loopreturn control actionthis is xhist(13,)this is uhist(4,)about to send dynamicsin herein the for loopreturn control actionthis is xhist(13,)this is uhist(4,)about to send dynamicsin herein the for loopreturn control actionthis is xhist(13,)this is uhist(4,)about to send dynamicsin herein the for loopreturn control actionthis is xhist(13,)this is uhist(4,)about to send dynamicsin herein the for loopreturn control actionthis is xhist(13,)this is uhist(4,)about to send dynamicsin herein the for loopreturn control actionthis is xhist(13,)this is uhist(4,)about to send dynamicsin herein the for loopreturn control actionthis is xhist(13,)this is uhist(4,)about to send dynamicsin herein the for loopreturn control actionthis is xhist(13,)this is uhist(4,)about to send dynamicsin herein the for loopreturn control actionthis is xhist(13,)this is uhist(4,)about to send dynamicsin herein the for loopreturn control actionthis is xhist(13,)this is uhist(4,)about to send dynamicsin herein the for loopreturn control actionthis is xhist(13,)this is uhist(4,)about to send dynamicsin herein the for loopreturn control actionthis is xhist(13,)this is uhist(4,)about to send dynamicsin herein the for loopreturn control actionthis is xhist(13,)this is uhist(4,)about to send dynamicsin herein the for loopreturn control actionthis is xhist(13,)this is uhist(4,)about to send dynamicsin herein the for loopreturn control actionthis is xhist(13,)this is uhist(4,)about to send dynamicsin herein the for loopreturn control actionthis is xhist(13,)this is uhist(4,)about to send dynamicsin herein the for loopreturn control actionthis is xhist(13,)this is uhist(4,)about to send dynamicsin herein the for loopreturn control actionthis is xhist(13,)this is uhist(4,)about to send dynamicsin herein the for loopreturn control actionthis is xhist(13,)this is uhist(4,)about to send dynamicsin herein the for loopreturn control actionthis is xhist(13,)this is uhist(4,)about to send dynamicsin herein the for loopreturn control actionthis is xhist(13,)this is uhist(4,)about to send dynamicsin herein the for loopreturn control actionthis is xhist(13,)this is uhist(4,)about to send dynamicsin herein the for loopreturn control actionthis is xhist(13,)this is uhist(4,)about to send dynamicsin herein the for loopreturn control actionthis is xhist(13,)this is uhist(4,)about to send dynamicsin herein the for loopreturn control actionthis is xhist(13,)this is uhist(4,)about to send dynamicsin herein the for loopreturn control actionthis is xhist(13,)this is uhist(4,)about to send dynamicsin herein the for loopreturn control actionthis is xhist(13,)this is uhist(4,)about to send dynamicsin herein the for loopreturn control actionthis is xhist(13,)this is uhist(4,)about to send dynamicsin herein the for loopreturn control actionthis is xhist(13,)this is uhist(4,)about to send dynamicsin herein the for loopreturn control actionthis is xhist(13,)this is uhist(4,)about to send dynamicsin herein the for loopreturn control actionthis is xhist(13,)this is uhist(4,)about to send dynamicsin herein the for loopreturn control actionthis is xhist(13,)this is uhist(4,)about to send dynamicsin herein the for loopreturn control actionthis is xhist(13,)this is uhist(4,)about to send dynamicsin herein the for loopreturn control actionthis is xhist(13,)this is uhist(4,)about to send dynamicsin herein the for loopreturn control actionthis is xhist(13,)this is uhist(4,)about to send dynamicsin herein the for loopreturn control actionthis is xhist(13,)this is uhist(4,)about to send dynamicsin herein the for loopreturn control actionthis is xhist(13,)this is uhist(4,)about to send dynamicsin herein the for loopreturn control actionthis is xhist(13,)this is uhist(4,)about to send dynamicsin herein the for loopreturn control actionthis is xhist(13,)this is uhist(4,)about to send dynamicsin herein the for loopreturn control actionthis is xhist(13,)this is uhist(4,)about to send dynamicsin herein the for loopreturn control actionthis is xhist(13,)this is uhist(4,)about to send dynamicsin herein the for loopreturn control actionthis is xhist(13,)this is uhist(4,)about to send dynamicsin herein the for loopreturn control actionthis is xhist(13,)this is uhist(4,)about to send dynamicsin herein the for loopreturn control actionthis is xhist(13,)this is uhist(4,)about to send dynamicsin herein the for loopreturn control actionthis is xhist(13,)this is uhist(4,)about to send dynamicsin herein the for loopreturn control actionthis is xhist(13,)this is uhist(4,)about to send dynamicsin herein the for loopreturn control actionthis is xhist(13,)this is uhist(4,)about to send dynamicsin herein the for loopreturn control actionthis is xhist(13,)this is uhist(4,)about to send dynamicsin herein the for loopreturn control actionthis is xhist(13,)this is uhist(4,)about to send dynamicsin herein the for loopreturn control actionthis is xhist(13,)this is uhist(4,)about to send dynamicsin herein the for loopreturn control actionthis is xhist(13,)this is uhist(4,)about to send dynamicsin herein the for loopreturn control actionthis is xhist(13,)this is uhist(4,)about to send dynamicsin herein the for loopreturn control actionthis is xhist(13,)this is uhist(4,)about to send dynamicsin herein the for loopreturn control actionthis is xhist(13,)this is uhist(4,)about to send dynamicsin herein the for loopreturn control actionthis is xhist(13,)this is uhist(4,)about to send dynamicsin herein the for loopreturn control actionthis is xhist(13,)this is uhist(4,)about to send dynamicsin herein the for loopreturn control actionthis is xhist(13,)this is uhist(4,)about to send dynamicsin herein the for loopreturn control actionthis is xhist(13,)this is uhist(4,)about to send dynamicsin herein the for loopreturn control actionthis is xhist(13,)this is uhist(4,)about to send dynamicsin herein the for loopreturn control actionthis is xhist(13,)this is uhist(4,)about to send dynamicsin herein the for loopreturn control actionthis is xhist(13,)this is uhist(4,)about to send dynamicsin herein the for loopreturn control actionthis is xhist(13,)this is uhist(4,)about to send dynamicsin herein the for loopreturn control actionthis is xhist(13,)this is uhist(4,)about to send dynamicsin herein the for loopreturn control actionthis is xhist(13,)this is uhist(4,)about to send dynamicsin herein the for loopreturn control actionthis is xhist(13,)this is uhist(4,)about to send dynamicsin herein the for loopreturn control actionthis is xhist(13,)this is uhist(4,)about to send dynamicsin herein the for loopreturn control actionthis is xhist(13,)this is uhist(4,)about to send dynamicsin herein the for loopreturn control actionthis is xhist(13,)this is uhist(4,)about to send dynamicsin herein the for loopreturn control actionthis is xhist(13,)this is uhist(4,)about to send dynamicsin herein the for loopreturn control actionthis is xhist(13,)this is uhist(4,)about to send dynamicsin herein the for loopreturn control actionthis is xhist(13,)this is uhist(4,)about to send dynamicsin herein the for loopreturn control actionthis is xhist(13,)this is uhist(4,)about to send dynamicsin herein the for loopreturn control actionthis is xhist(13,)this is uhist(4,)about to send dynamicsin herein the for loopreturn control actionthis is xhist(13,)this is uhist(4,)about to send dynamicsin herein the for loopreturn control actionthis is xhist(13,)this is uhist(4,)about to send dynamicsin herein the for loopreturn control actionthis is xhist(13,)this is uhist(4,)about to send dynamicsin herein the for loopreturn control actionthis is xhist(13,)this is uhist(4,)about to send dynamicsin herein the for loopreturn control actionthis is xhist(13,)this is uhist(4,)about to send dynamicsin herein the for loopreturn control actionthis is xhist(13,)this is uhist(4,)about to send dynamicsin herein the for loopreturn control actionthis is xhist(13,)this is uhist(4,)about to send dynamicsin herein the for loopreturn control actionthis is xhist(13,)this is uhist(4,)about to send dynamicsin herein the for loopreturn control actionthis is xhist(13,)this is uhist(4,)about to send dynamicsin herein the for loopreturn control actionthis is xhist(13,)this is uhist(4,)about to send dynamicsin herereturning pose"
     ]
    }
   ],
   "source": [
    "#q0 = x0[4:7]\n",
    "#q = x[4:7]\n",
    "#phi = qtorp(L(q0)'*q)\n",
    "\n",
    "x_start = [r0+[2;2;1]; L(q0)*rptoq([0.414; 1; 1.59]); v0; omega0]\n",
    "\n",
    "#print(size(x_start))\n",
    "\n",
    "x_ref = [r0; qtorp(q0);v0; omega0]\n",
    "\n",
    "#print(size(x_ref))\n",
    "\n",
    "#x0 = [r0+[2;2;1]; L(q0)*rptoq([0.414; 1; 1.59]); v0; omega0]\n",
    "\n",
    "xhist2, uhist2 = closed_loop(x_start, (t,x)->mpc_controller(t,x,x_ref), Nt);\n"
   ]
  },
  {
   "cell_type": "code",
   "execution_count": 36,
   "id": "17239320",
   "metadata": {},
   "outputs": [
    {
     "data": {
      "image/png": "[encoded data removed]",
      "text/plain": [
       "Figure(PyObject <Figure size 640x480 with 1 Axes>)"
      ]
     },
     "metadata": {},
     "output_type": "display_data"
    },
    {
     "data": {
      "text/plain": [
       "PyObject <matplotlib.legend.Legend object at 0x7f1a88f60850>"
      ]
     },
     "execution_count": 36,
     "metadata": {},
     "output_type": "execute_result"
    }
   ],
   "source": [
    "plot(thist,xhist2[1,:], label=\"x MPC\")\n",
    "xlabel(\"time\")\n",
    "legend()"
   ]
  },
  {
   "cell_type": "code",
   "execution_count": 37,
   "id": "e89004bc",
   "metadata": {},
   "outputs": [
    {
     "data": {
      "image/png": "[encoded data removed]",
      "text/plain": [
       "Figure(PyObject <Figure size 640x480 with 1 Axes>)"
      ]
     },
     "metadata": {},
     "output_type": "display_data"
    }
   ],
   "source": [
    "plot(thist,xhist2[3,:], label=\"z LQR\")\n",
    "xlabel(\"Time (s)\")\n",
    "ylabel(\"Distance (m)\")\n",
    "legend()\n",
    "show()"
   ]
  },
  {
   "cell_type": "code",
   "execution_count": 15,
   "id": "7f934261",
   "metadata": {},
   "outputs": [
    {
     "name": "stderr",
     "output_type": "stream",
     "text": [
      "┌ Info: MeshCat server started. You can open the visualizer by visiting the following URL in your browser:\n",
      "│ http://127.0.0.1:8701\n",
      "└ @ MeshCat /home/fausto/.julia/packages/MeshCat/GlCMx/src/visualizer.jl:73\n"
     ]
    },
    {
     "data": {
      "text/html": [
       "    <div style=\"height: 500px; width: 100%; overflow-x: auto; overflow-y: hidden; resize: both\">\n",
       "    <iframe src=\"http://127.0.0.1:8701\" style=\"width: 100%; height: 100%; border: none\"></iframe>\n",
       "    </div>\n"
      ],
      "text/plain": [
       "MeshCat.DisplayedVisualizer(MeshCat.CoreVisualizer(MeshCat.SceneTrees.SceneNode(nothing, nothing, Dict{String, Vector{UInt8}}(), nothing, Dict{String, MeshCat.SceneTrees.SceneNode}()), Set{Any}(), ip\"127.0.0.1\", 8701))"
      ]
     },
     "execution_count": 15,
     "metadata": {},
     "output_type": "execute_result"
    }
   ],
   "source": [
    "#Set up visualization\n",
    "using TrajOptPlots\n",
    "using MeshCat\n",
    "using StaticArrays\n",
    "using RobotZoo:Quadrotor\n",
    "\n",
    "vis = Visualizer()\n",
    "render(vis)"
   ]
  },
  {
   "cell_type": "code",
   "execution_count": 16,
   "id": "baba5e0d",
   "metadata": {},
   "outputs": [
    {
     "data": {
      "text/plain": [
       "false"
      ]
     },
     "execution_count": 16,
     "metadata": {},
     "output_type": "execute_result"
    }
   ],
   "source": [
    "model = Quadrotor()\n",
    "TrajOptPlots.set_mesh!(vis, model)"
   ]
  },
  {
   "cell_type": "code",
   "execution_count": 17,
   "id": "9375ebf4",
   "metadata": {},
   "outputs": [],
   "source": [
    "X1 = [SVector{13}(x) for x in eachcol(xhist2)];\n",
    "visualize!(vis, model, thist[end], X1)"
   ]
  },
  {
   "cell_type": "code",
   "execution_count": null,
   "id": "035af062",
   "metadata": {},
   "outputs": [],
   "source": []
  },
  {
   "cell_type": "code",
   "execution_count": null,
   "id": "2f9cecec",
   "metadata": {},
   "outputs": [],
   "source": []
  }
 ],
 "metadata": {
  "kernelspec": {
   "display_name": "Julia 1.6.1",
   "language": "julia",
   "name": "julia-1.6"
  },
  "language_info": {
   "file_extension": ".jl",
   "mimetype": "application/julia",
   "name": "julia",
   "version": "1.6.1"
  }
 },
 "nbformat": 4,
 "nbformat_minor": 5
}
