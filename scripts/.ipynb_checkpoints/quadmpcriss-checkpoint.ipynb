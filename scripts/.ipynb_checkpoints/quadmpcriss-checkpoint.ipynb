{
 "cells": [
  {
   "cell_type": "code",
   "execution_count": 19,
   "id": "fcb886c8",
   "metadata": {},
   "outputs": [],
   "source": [
    "using Altro\n",
    "using TrajectoryOptimization\n",
    "using RobotDynamics\n",
    "const RD = RobotDynamics\n",
    "const TO = TrajectoryOptimization\n",
    "\n",
    "using JuMP\n",
    "using OSQP\n",
    "using SparseArrays\n",
    "using BenchmarkTools\n",
    "using TimerOutputs\n",
    "using Random\n",
    "using Profile\n",
    "using Statistics\n",
    "using LinearAlgebra\n",
    "using StaticArrays\n",
    "using StatsPlots\n",
    "# using ProfileView: @profview\n",
    "using StatProfilerHTML\n",
    "using JLD2\n",
    "using Plots\n",
    "using ZMQ\n",
    "using ProtoBuf\n",
    "using LinearAlgebra\n",
    "using ForwardDiff\n",
    "using BlockDiagonals\n",
    "using ControlSystems\n",
    "using PyPlot\n"
   ]
  },
  {
   "cell_type": "code",
   "execution_count": 20,
   "id": "bc5a7b42",
   "metadata": {},
   "outputs": [
    {
     "data": {
      "text/plain": [
       "quad_dynamics (generic function with 1 method)"
      ]
     },
     "execution_count": 20,
     "metadata": {},
     "output_type": "execute_result"
    }
   ],
   "source": [
    "function hat(v) #skew symmetric matrix operator\n",
    "    return [0 -v[3] v[2];\n",
    "            v[3] 0 -v[1];\n",
    "            -v[2] v[1] 0]\n",
    "end\n",
    "function L(q) #the function takes a quaternion as input\n",
    "    s = q[1] #scalar part of quaternion\n",
    "    v = q[2:4] #vector part of quaternion\n",
    "    L = [s    -v';\n",
    "         v  s*I+hat(v)]\n",
    "    return L\n",
    "end\n",
    "\n",
    "T = Diagonal([1; -ones(3)]) # to find the inverse of a quaternion\n",
    "H = [zeros(1,3); I]  #zero the scalar part of quaternion\n",
    "function qtoQ(q) #figure out what this function is for\n",
    "    return H'*T*L(q)*T*L(q)*H\n",
    "end\n",
    "\n",
    "function G(q)\n",
    "    G = L(q)*H\n",
    "end\n",
    "\n",
    "function rptoq(phi)# mapping between rodrigues parameter and quaternion\n",
    "    (1/sqrt(1+phi'*phi))*[1; phi] #known as the Cayley map\n",
    "end\n",
    "function qtorp(q) #mapping between quaternion to rodrigues parameter\n",
    "    q[2:4]/q[1]\n",
    "end\n",
    "\n",
    "# updated quadrotor parameters\n",
    "m = 1.776 # in kg\n",
    "l = 0.28 #in m\n",
    "J = [0.01566089 0.00000318037 0; 0.00000318037 0.01562078 0; 0 0 0.02226868]\n",
    "g = 9.81\n",
    "kt=0.11\n",
    "km=0.044\n",
    "\n",
    "#umin = [0;0;0;0]\n",
    "#umax = [0.3*m*g;0.3*m*g;0.3*m*g;0.3*m*g]\n",
    "\n",
    "h = 0.05 #20 Hz\n",
    "\n",
    "Nx = 13     #number of states (w quaternion)\n",
    "Nx_ = 12    #number of states (linearized using rodrigues parameters)\n",
    "Nu = 4     # number of controls\n",
    "Tfinal = 5.0 #final time (may change if it is not discrete time)\n",
    "Nt = Int(Tfinal/h)+1    # number of time steps\n",
    "thist = Array(range(0,h*(Nt-1), step=h));\n",
    "\n",
    "\n",
    "function E(q)\n",
    "    E = BlockDiagonal([1.0*I(3), G(q), 1.0*I(6)])\n",
    "end\n",
    "\n",
    "function quad_dynamics(x,u)\n",
    "    r = x[1:3]\n",
    "    q = x[4:7]\n",
    "    v = x[8:10]\n",
    "    omega = x[11:13]\n",
    "    Q = qtoQ(q)\n",
    "    \n",
    "    rdot = Q*v\n",
    "    qdot = 0.5*L(q)*H*omega\n",
    "    \n",
    "    vdot = Q'*[0; 0; -g] + (1/m)*[zeros(2,4); kt*ones(1,4)]*u - hat(omega)*v\n",
    "    \n",
    "    omegadot = J\\(-hat(omega)*J*omega + [0 l*kt 0 -l*kt; -l*kt 0 l*kt 0; km -km km -km]*u)\n",
    "    \n",
    "    return [rdot; qdot; vdot; omegadot]\n",
    "end"
   ]
  },
  {
   "cell_type": "code",
   "execution_count": 21,
   "id": "61db3f17",
   "metadata": {},
   "outputs": [
    {
     "data": {
      "text/plain": [
       "quad_dynamics_rk4 (generic function with 1 method)"
      ]
     },
     "execution_count": 21,
     "metadata": {},
     "output_type": "execute_result"
    }
   ],
   "source": [
    "function quad_dynamics_rk4(x,u)\n",
    "    #RK4 integration with zero-order hold on u\n",
    "    f1 = quad_dynamics(x, u)\n",
    "    f2 = quad_dynamics(x + 0.5*h*f1, u)\n",
    "    f3 = quad_dynamics(x + 0.5*h*f2, u)\n",
    "    f4 = quad_dynamics(x + h*f3, u)\n",
    "    xn = x + (h/6.0)*(f1 + 2*f2 + 2*f3 + f4)\n",
    "    xn[4:7] .= xn[4:7]/norm(xn[4:7]) #re-normalize quaternion to reduce error\n",
    "    return xn #returns the state at a future timestep\n",
    "end\n"
   ]
  },
  {
   "cell_type": "code",
   "execution_count": 22,
   "id": "7c1eec46",
   "metadata": {},
   "outputs": [],
   "source": [
    "#Initial Conditions\n",
    "uhover = (m*g/4)*ones(4) #gravity compensation for a hover\n",
    "r0 = [0.0; 0; 1.0] #1 meter off the ground\n",
    "q0 = [1.0; 0; 0; 0]\n",
    "v0 = zeros(3)\n",
    "omega0 = zeros(3) #stable hover, no velocities\n",
    "x0 = [r0; q0; v0; omega0]; #initial/reference state\n",
    "\n",
    "#Linearize dynamics about hover\n",
    "A = ForwardDiff.jacobian(x->quad_dynamics_rk4(x,uhover),x0)\n",
    "B = ForwardDiff.jacobian(u->quad_dynamics_rk4(x0,u),uhover);\n",
    "\n",
    "#reduced system to make it controllable \n",
    "A_ = Array(E(q0)'*A*E(q0));\n",
    "B_ = Array(E(q0)'*B);\n"
   ]
  },
  {
   "cell_type": "code",
   "execution_count": 23,
   "id": "e71994bc",
   "metadata": {},
   "outputs": [
    {
     "data": {
      "text/plain": [
       "gen_trajectory (generic function with 1 method)"
      ]
     },
     "execution_count": 23,
     "metadata": {},
     "output_type": "execute_result"
    }
   ],
   "source": [
    "function gen_trajectory(n,m,N,dt)\n",
    "    #prob = gen_random_linear(n,m,N, dt)\n",
    "    uhover = (m*g/4)*ones(4) #gravity compensation for a hover\n",
    "    r0 = [0.0; 0; 1.0] #1 meter off the ground\n",
    "    q0 = [1.0; 0; 0; 0]\n",
    "    phi0= qtorp(L(q0)'*q0)\n",
    "    v0 = zeros(3)\n",
    "    omega0 = zeros(3) #stable hover, no velocities\n",
    "    x0 = [r0; phi0; v0; omega0]; #initial/reference state\n",
    "    cmodel = RD.LinearModel(A_,B_)\n",
    "    model = LinearizedModel(cmodel, dt=dt, is_affine=true, integration=RD.RK4)\n",
    "    #discretizedmodel = discretize!(model)\n",
    "    print(\"model discretized\")\n",
    "    return model\n",
    "end"
   ]
  },
  {
   "cell_type": "code",
   "execution_count": 24,
   "id": "e0cb7671",
   "metadata": {},
   "outputs": [
    {
     "name": "stdout",
     "output_type": "stream",
     "text": [
      "model discretized"
     ]
    },
    {
     "data": {
      "text/plain": [
       "LinearizedModel{LinearModel{12, 4, Float64, 16}, RK4, LinearModel{12, 4, Float64, 28}, Traj{12, 4, Float64, KnotPoint{Float64, 12, 4, 16}}, RobotDynamics.DynamicsJacobian{12, 16, Float64}}(LinearModel{12, 4, Float64, 16}(SizedMatrix{12, 12, Float64, 2, Matrix{Float64}}[[1.0 0.0 … 2.248125000000005e-5 0.0; 0.0 1.0 … 0.0 0.0; … ; 0.0 0.0 … 1.0 0.0; 0.0 0.0 … 0.0 1.0]], SizedMatrix{12, 4, Float64, 2, Matrix{Float64}}[[-5.540876709014183e-7 -1.1252258370403911e-10 5.540876709014183e-7 1.1252258370403911e-10; -1.1252258370403911e-10 -5.526685653154751e-7 1.1252258370403911e-10 5.526685653154751e-7; … ; -0.09858663035221224 -2.0020698796381638e-5 0.09858663035221224 2.0020698796381638e-5; 0.0987934623875326 -0.0987934623875326 0.0987934623875326 -0.0987934623875326]], SizedVector{12, Float64, Vector{Float64}}[], Float64[], 0.0, [0.0, 0.0, 0.0, 0.0, 0.0, 0.0, 0.0, 0.0, 0.0, 0.0, 0.0, 0.0], [0.0 0.0 … 0.0 0.0; 0.0 0.0 … 0.0 0.0; … ; 0.0 0.0 … 0.0 0.0; 0.0 0.0 … 0.0 0.0], true), LinearModel{12, 4, Float64, 28}(SizedMatrix{12, 12, Float64, 2, Matrix{Float64}}[[1.05127109375 0.0 … 2.8198874804687525e-6 0.0; 0.0 1.05127109375 … 0.0 0.0; … ; 0.0 0.0 … 1.05127109375 0.0; 0.0 0.0 … 0.0 1.05127109375]], SizedMatrix{12, 4, Float64, 2, Matrix{Float64}}[[-1.1191517608459275e-7 -2.2727422807015222e-11 1.1191517608459275e-7 2.2727422807015222e-11; -2.2727422807015222e-11 -1.1162854373402059e-7 2.2727422807015222e-11 1.1162854373402059e-7; … ; -0.00505464436728487 -1.026483124929795e-6 0.00505464436728487 1.026483124929795e-6; 0.005065248871958283 -0.005065248871958283 0.005065248871958283 -0.005065248871958283]], SizedVector{12, Float64, Vector{Float64}}[[0.0, 0.0, 0.0, 0.0, 0.0, 0.0, 0.0, 0.0, 0.0, 0.0, 0.0, 0.0]], Float64[], 0.05, [0.0, 0.0, 0.0, 0.0, 0.0, 0.0, 0.0, 0.0, 0.0, 0.0, 0.0, 0.0], [0.0 0.0 … 0.0 0.0; 0.0 0.0 … 0.0 0.0; … ; 0.0 0.0 … 0.0 0.0; 0.0 0.0 … 0.0 0.0], true), KnotPoint{Float64, 12, 4, 16}[KnotPoint{Float64, 12, 4, 16}([0.0, 0.0, 0.0, 0.0, 0.0, 0.0, 0.0, 0.0, 0.0, 0.0, 0.0, 0.0, 0.0, 0.0, 0.0, 0.0], [1, 2, 3, 4, 5, 6, 7, 8, 9, 10, 11, 12], [13, 14, 15, 16], 0.05, 0.0)], [1.05127109375 0.0 … 1.1191517608459275e-7 2.2727422807015222e-11; 0.0 1.05127109375 … 2.2727422807015222e-11 1.1162854373402059e-7; … ; 0.0 0.0 … 0.00505464436728487 1.026483124929795e-6; 0.0 0.0 … 0.005065248871958283 -0.005065248871958283])"
      ]
     },
     "execution_count": 24,
     "metadata": {},
     "output_type": "execute_result"
    }
   ],
   "source": [
    "N = 1101\n",
    "Ns = [11,31,51,71,101]\n",
    "n = 12\n",
    "m = 4\n",
    "dt = 0.05\n",
    "\n",
    "model = gen_trajectory(n, m, N, dt)"
   ]
  },
  {
   "cell_type": "code",
   "execution_count": 26,
   "id": "6298b8fd",
   "metadata": {},
   "outputs": [
    {
     "name": "stdout",
     "output_type": "stream",
     "text": [
      "124"
     ]
    },
    {
     "data": {
      "text/plain": [
       "0.05"
      ]
     },
     "execution_count": 26,
     "metadata": {},
     "output_type": "execute_result"
    }
   ],
   "source": [
    "# discretization\n",
    "n,m = size(model)\n",
    "print(n,m)\n",
    "N = 101 # number of knot points\n",
    "tf = 5.0\n",
    "dt = tf/(N-1) # total time"
   ]
  },
  {
   "cell_type": "code",
   "execution_count": 29,
   "id": "43a45824",
   "metadata": {},
   "outputs": [
    {
     "ename": "LoadError",
     "evalue": "MethodError: no method matching build_state(::LinearizedModel{LinearModel{12, 4, Float64, 16}, RK4, LinearModel{12, 4, Float64, 28}, Traj{12, 4, Float64, KnotPoint{Float64, 12, 4, 16}}, RobotDynamics.DynamicsJacobian{12, 16, Float64}}, ::Vector{Float64}, ::Vector{Float64}, ::Vector{Float64}, ::Vector{Float64})\n\u001b[0mClosest candidates are:\n\u001b[0m  build_state(\u001b[91m::RigidBody{var\"#s32\"} where var\"#s32\"<:Rotations.UnitQuaternion\u001b[39m, ::AbstractVector{T} where T, ::AbstractVector{T} where T, ::AbstractVector{T} where T, ::AbstractVector{T} where T) at /home/fausto/.julia/packages/RobotDynamics/tXate/src/rigidbody.jl:149\n\u001b[0m  build_state(\u001b[91m::RigidBody\u001b[39m, ::AbstractVector{T} where T, ::AbstractVector{T} where T, ::AbstractVector{T} where T, ::AbstractVector{T} where T) at /home/fausto/.julia/packages/RobotDynamics/tXate/src/rigidbody.jl:138\n\u001b[0m  build_state(\u001b[91m::RigidBody{R}\u001b[39m, ::Any...) where R<:Rotations.Rotation at /home/fausto/.julia/packages/RobotDynamics/tXate/src/rigidbody.jl:133",
     "output_type": "error",
     "traceback": [
      "MethodError: no method matching build_state(::LinearizedModel{LinearModel{12, 4, Float64, 16}, RK4, LinearModel{12, 4, Float64, 28}, Traj{12, 4, Float64, KnotPoint{Float64, 12, 4, 16}}, RobotDynamics.DynamicsJacobian{12, 16, Float64}}, ::Vector{Float64}, ::Vector{Float64}, ::Vector{Float64}, ::Vector{Float64})\n\u001b[0mClosest candidates are:\n\u001b[0m  build_state(\u001b[91m::RigidBody{var\"#s32\"} where var\"#s32\"<:Rotations.UnitQuaternion\u001b[39m, ::AbstractVector{T} where T, ::AbstractVector{T} where T, ::AbstractVector{T} where T, ::AbstractVector{T} where T) at /home/fausto/.julia/packages/RobotDynamics/tXate/src/rigidbody.jl:149\n\u001b[0m  build_state(\u001b[91m::RigidBody\u001b[39m, ::AbstractVector{T} where T, ::AbstractVector{T} where T, ::AbstractVector{T} where T, ::AbstractVector{T} where T) at /home/fausto/.julia/packages/RobotDynamics/tXate/src/rigidbody.jl:138\n\u001b[0m  build_state(\u001b[91m::RigidBody{R}\u001b[39m, ::Any...) where R<:Rotations.Rotation at /home/fausto/.julia/packages/RobotDynamics/tXate/src/rigidbody.jl:133",
      "",
      "Stacktrace:",
      " [1] top-level scope",
      "   @ In[29]:7",
      " [2] eval",
      "   @ ./boot.jl:360 [inlined]",
      " [3] include_string(mapexpr::typeof(REPL.softscope), mod::Module, code::String, filename::String)",
      "   @ Base ./loading.jl:1094"
     ]
    }
   ],
   "source": [
    "#Q_diag = RobotDynamics.fill_state(model, 1e-5, 0.0, 1e-3, 1e-3)  # build a vector from 4 scalars, one for position, orientation, and linear and angular velocities\n",
    "Q = Diagonal(@SVector fill(1e-2, n))\n",
    "R = Diagonal(@SVector fill(1e-0, m))\n",
    "Qf = Diagonal(@SVector fill(1e4, n))\n",
    "q_nom = [1 0 0 0] # shortcut for identity rotation\n",
    "phi_nom= qtorp(L(q0)'*q0)\n",
    "v_nom, ω_nom = zeros(3), zeros(3)  # nominal linear and angular velocities\n",
    "x_nom = [zeros(3), phi_nom, v_nom, ω_nom]  # build the nominal state vector\n",
    "\n",
    "cost_nom = TrajectoryOptimization.QuatLQRCost(Q, R, x_nom, w=0.0);\n",
    "\n",
    "print(cost_nom)"
   ]
  },
  {
   "cell_type": "code",
   "execution_count": null,
   "id": "c35fdc63",
   "metadata": {},
   "outputs": [],
   "source": []
  }
 ],
 "metadata": {
  "kernelspec": {
   "display_name": "Julia 1.6.1",
   "language": "julia",
   "name": "julia-1.6"
  },
  "language_info": {
   "file_extension": ".jl",
   "mimetype": "application/julia",
   "name": "julia",
   "version": "1.6.1"
  }
 },
 "nbformat": 4,
 "nbformat_minor": 5
}
